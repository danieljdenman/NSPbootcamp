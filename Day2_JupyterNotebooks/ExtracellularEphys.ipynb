{
 "cells": [
  {
   "cell_type": "markdown",
   "metadata": {},
   "source": [
    "# NSP Bootcamp Day 2: Putting python skills into practice\n",
    "## Extracting spiking information from extracellular electrophysiology data\n",
    "\n",
    "<br>\n"
   ]
  },
  {
   "cell_type": "markdown",
   "metadata": {},
   "source": [
    "The best way to learn coding is to do, so lets take some of the concepts from the Introduction.ipynb that we went through yesterday and put them in to practice. If thinking of this notebook from yesterday brings a memory of total confusion and bafflement, take this time to go back to that notebook and work through it again. If not, go forth with this notebook! Feel free to work with your neighbor as you go. "
   ]
  },
  {
   "cell_type": "markdown",
   "metadata": {},
   "source": [
    "\n",
    "Goal: use some raw extracellular electrophysiology voltage data, along with some times for when other things (similar to the awake behavior seen in Crystal's experiments) occurred during the recording, to:\n",
    "- examine the recorded voltages\n",
    "- find some times of action potentials from these voltages\n",
    "- correlate these times of action potentials with an experimental variable \n",
    "\n",
    "The data come from the Denman Lab. We will work toward making a plot like this, a raster of spike times around two different visual stimuli:\n",
    "![raster](../res/raster2.png) "
   ]
  },
  {
   "cell_type": "markdown",
   "metadata": {},
   "source": [
    "##### Some of the code is pre-written, and you will simply execute it. In other cases, you will be prompted to write some code lines to advance towards this goal. **There are going to be 8 such prompts,** plus some bonus challenges if you want to keep going.\n",
    "\n",
    "## Imports of packages we will need for this notebook. \n",
    "#### All are standard and those that we have talked about"
   ]
  },
  {
   "cell_type": "code",
   "execution_count": 71,
   "metadata": {},
   "outputs": [
    {
     "name": "stdout",
     "output_type": "stream",
     "text": [
      "Requirement already satisfied: h5py in /Users/danieljdenman/opt/anaconda3/envs/nspbootcamp2024/lib/python3.12/site-packages (3.11.0)\n",
      "Collecting pynwb\n",
      "  Using cached pynwb-2.8.1-py3-none-any.whl.metadata (8.9 kB)\n",
      "Requirement already satisfied: numpy>=1.17.3 in /Users/danieljdenman/opt/anaconda3/envs/nspbootcamp2024/lib/python3.12/site-packages (from h5py) (1.26.4)\n",
      "Collecting hdmf>=3.14.0 (from pynwb)\n",
      "  Downloading hdmf-3.14.3-py3-none-any.whl.metadata (8.8 kB)\n",
      "Requirement already satisfied: pandas>=1.1.5 in /Users/danieljdenman/opt/anaconda3/envs/nspbootcamp2024/lib/python3.12/site-packages (from pynwb) (2.2.2)\n",
      "Requirement already satisfied: python-dateutil>=2.7.3 in /Users/danieljdenman/opt/anaconda3/envs/nspbootcamp2024/lib/python3.12/site-packages (from pynwb) (2.9.0.post0)\n",
      "Requirement already satisfied: jsonschema>=2.6.0 in /Users/danieljdenman/opt/anaconda3/envs/nspbootcamp2024/lib/python3.12/site-packages (from hdmf>=3.14.0->pynwb) (4.19.2)\n",
      "Collecting ruamel-yaml>=0.16 (from hdmf>=3.14.0->pynwb)\n",
      "  Using cached ruamel.yaml-0.18.6-py3-none-any.whl.metadata (23 kB)\n",
      "Requirement already satisfied: scipy>=1.4 in /Users/danieljdenman/opt/anaconda3/envs/nspbootcamp2024/lib/python3.12/site-packages (from hdmf>=3.14.0->pynwb) (1.13.1)\n",
      "Requirement already satisfied: pytz>=2020.1 in /Users/danieljdenman/opt/anaconda3/envs/nspbootcamp2024/lib/python3.12/site-packages (from pandas>=1.1.5->pynwb) (2024.1)\n",
      "Requirement already satisfied: tzdata>=2022.7 in /Users/danieljdenman/opt/anaconda3/envs/nspbootcamp2024/lib/python3.12/site-packages (from pandas>=1.1.5->pynwb) (2023.3)\n",
      "Requirement already satisfied: six>=1.5 in /Users/danieljdenman/opt/anaconda3/envs/nspbootcamp2024/lib/python3.12/site-packages (from python-dateutil>=2.7.3->pynwb) (1.16.0)\n",
      "Requirement already satisfied: attrs>=22.2.0 in /Users/danieljdenman/opt/anaconda3/envs/nspbootcamp2024/lib/python3.12/site-packages (from jsonschema>=2.6.0->hdmf>=3.14.0->pynwb) (23.1.0)\n",
      "Requirement already satisfied: jsonschema-specifications>=2023.03.6 in /Users/danieljdenman/opt/anaconda3/envs/nspbootcamp2024/lib/python3.12/site-packages (from jsonschema>=2.6.0->hdmf>=3.14.0->pynwb) (2023.7.1)\n",
      "Requirement already satisfied: referencing>=0.28.4 in /Users/danieljdenman/opt/anaconda3/envs/nspbootcamp2024/lib/python3.12/site-packages (from jsonschema>=2.6.0->hdmf>=3.14.0->pynwb) (0.30.2)\n",
      "Requirement already satisfied: rpds-py>=0.7.1 in /Users/danieljdenman/opt/anaconda3/envs/nspbootcamp2024/lib/python3.12/site-packages (from jsonschema>=2.6.0->hdmf>=3.14.0->pynwb) (0.10.6)\n",
      "Collecting ruamel.yaml.clib>=0.2.7 (from ruamel-yaml>=0.16->hdmf>=3.14.0->pynwb)\n",
      "  Using cached ruamel.yaml.clib-0.2.8-cp312-cp312-macosx_10_9_universal2.whl.metadata (2.2 kB)\n",
      "Using cached pynwb-2.8.1-py3-none-any.whl (1.4 MB)\n",
      "Downloading hdmf-3.14.3-py3-none-any.whl (337 kB)\n",
      "Using cached ruamel.yaml-0.18.6-py3-none-any.whl (117 kB)\n",
      "Using cached ruamel.yaml.clib-0.2.8-cp312-cp312-macosx_10_9_universal2.whl (144 kB)\n",
      "Installing collected packages: ruamel.yaml.clib, ruamel-yaml, hdmf, pynwb\n",
      "Successfully installed hdmf-3.14.3 pynwb-2.8.1 ruamel-yaml-0.18.6 ruamel.yaml.clib-0.2.8\n"
     ]
    }
   ],
   "source": [
    "!pip install h5py pynwb"
   ]
  },
  {
   "cell_type": "code",
   "execution_count": 1,
   "metadata": {},
   "outputs": [],
   "source": [
    "import os,sys,glob\n",
    "import numpy as np\n",
    "import pandas as pd\n",
    "import seaborn as sns\n",
    "import matplotlib.pyplot as plt\n",
    "plt.style.use('dark_background')\n",
    "import h5py\n",
    "from pynwb import NWBHDF5IO\n"
   ]
  },
  {
   "cell_type": "markdown",
   "metadata": {},
   "source": [
    "### Now we will get the Neuropixels data from a Denman Lab server. \n",
    "The details of this are not critical, and can be ignored for now in order to get the rest of this notebook. \n",
    "So, some Jupyter practice: press ```Shift + Enter``` to run a cell and advance to the next one\n",
    "<br>\n",
    "<br>\n",
    "This kind of data can be quite large; we are going to download a subset of the data for working today, but it will still take a few minutes (10 or fewer if you have a decent internet connection). Feel free to read down and begin thinking about how to tackle the questions."
   ]
  },
  {
   "cell_type": "code",
   "execution_count": 178,
   "metadata": {},
   "outputs": [
    {
     "data": {
      "text/plain": [
       "('lfp.dat', <http.client.HTTPMessage at 0x122042d670>)"
      ]
     },
     "execution_count": 178,
     "metadata": {},
     "output_type": "execute_result"
    }
   ],
   "source": [
    "from urllib.request import urlretrieve\n",
    "urlretrieve(\"https://storage.googleapis.com/denmanlab/s1/autobahn/20210922_3592_ABC_g0.nwb\",\n",
    "             \"20210922_3592_ABC_g0.nwb\")\n",
    "urlretrieve(\"https://storage.googleapis.com/nsp_bootcamp/spikes.npy\",\n",
    "             \"spikes.npy\")\n",
    "urlretrieve(\"https://storage.googleapis.com/nsp_bootcamp/20210922_3592_ABC_g0_t0.imec0.lf.bin\",\n",
    "             \"lfp.dat\")"
   ]
  },
  {
   "cell_type": "code",
   "execution_count": 2,
   "metadata": {},
   "outputs": [],
   "source": [
    "lfp_data = np.memmap('lfp.dat', dtype=np.int16, mode='r')"
   ]
  },
  {
   "cell_type": "markdown",
   "metadata": {},
   "source": [
    "### **Question 1. what kind type of variable is `lfp_data`?** \n",
    "hint: use a function that returns the data type of the input it receives. there are also other ways to find this answer"
   ]
  },
  {
   "cell_type": "code",
   "execution_count": 3,
   "metadata": {},
   "outputs": [
    {
     "data": {
      "text/plain": [
       "numpy.memmap"
      ]
     },
     "execution_count": 3,
     "metadata": {},
     "output_type": "execute_result"
    }
   ],
   "source": [
    "type(lfp_data)"
   ]
  },
  {
   "cell_type": "markdown",
   "metadata": {},
   "source": [
    "so `lfp_data` is a ____. (not going to just give this answer...you can edit this Markdown cell to replace the blank with the data type of `lfp_data`)\n",
    "\n",
    "it will be easier for us to work with as an array. i will grab a small(ish) chunk of the whole data and make it into a numpy ndarray\n"
   ]
  },
  {
   "cell_type": "code",
   "execution_count": 4,
   "metadata": {},
   "outputs": [],
   "source": [
    "lfp_data = lfp_data.reshape(-1,385).T"
   ]
  },
  {
   "cell_type": "code",
   "execution_count": 5,
   "metadata": {},
   "outputs": [],
   "source": [
    "lfp_data = np.array(lfp_data[:,:2500*1500])"
   ]
  },
  {
   "cell_type": "markdown",
   "metadata": {},
   "source": [
    "so we've reshaped the data and made it into an ndarray. i will give you that this new shape has time along one dimension, and independent electrodes along the other dimension. there will be more time samples than electodes. "
   ]
  },
  {
   "cell_type": "markdown",
   "metadata": {},
   "source": [
    "### **Question 2. How many independent electrodes are there in `lfp_data`?**\n",
    "To help answer this, note that there are 3750000 samples of time in this chunk of data\n"
   ]
  },
  {
   "cell_type": "code",
   "execution_count": null,
   "metadata": {},
   "outputs": [],
   "source": []
  },
  {
   "cell_type": "markdown",
   "metadata": {},
   "source": [
    "great, we are making some progress in understanding the type and shape of this data, but what is it? We are working extracellular electrophysiology data from Neuropixels in the exercise, and we've begun with something called `lfp_data`. why is it called this? it is the *L*ocal *F*ield *Potential*, or the voltage changes recorded at each electrode when filtered to slow the \"slower\" changes in voltage (< 300 Hz). Let's take a quick look at one of these channels, channel 50:"
   ]
  },
  {
   "cell_type": "code",
   "execution_count": 6,
   "metadata": {},
   "outputs": [
    {
     "data": {
      "text/plain": [
       "Text(0, 0.5, 'µV')"
      ]
     },
     "execution_count": 6,
     "metadata": {},
     "output_type": "execute_result"
    },
    {
     "data": {
      "image/png": "[encoded data removed]",
      "text/plain": [
       "<Figure size 640x480 with 1 Axes>"
      ]
     },
     "metadata": {},
     "output_type": "display_data"
    }
   ],
   "source": [
    "plt.plot(np.linspace(-0.5,1.,2500),lfp_data[50,268832:271332])\n",
    "plt.xlabel('time (sec)')\n",
    "plt.ylabel('µV')"
   ]
  },
  {
   "cell_type": "markdown",
   "metadata": {},
   "source": [
    "### **Question 3. plot the same time range, but for channel 95 of `lfp_data`?**"
   ]
  },
  {
   "cell_type": "code",
   "execution_count": null,
   "metadata": {},
   "outputs": [],
   "source": []
  },
  {
   "cell_type": "markdown",
   "metadata": {},
   "source": [
    "The two plots of the LFP from two channels of this recording have some shared characteristics, but also some differences between them. As we briefly covered this morning, the LFP reflects a summation of many small potentials from many neurons in the area around the electrode. So we see that neurons have some shared potentials across different locations (these two electrodes are 450 µm apart), but also some differences. There is more depth to this signal, but we will leave other topics in LFP analysis - periodic activity (a.k.a. oscillations), coherence, current source density - to future topics."
   ]
  },
  {
   "cell_type": "markdown",
   "metadata": {},
   "source": [
    "Fast changes in the potential outside of a neuron happen as a result of action potentials - spikes - the basic unit of brain communication. \n",
    "\n",
    "<br>\n",
    "How do we find these from extracellular recordings? First, we have to isolate those fast changes from the slower LFP signals, which for Neuropixels happens in the hardware on the probe and is saved in a separate band. Instead of loading all of the spiking data (it would be too big for convenience), we'll load just four channels that I've selected for you:"
   ]
  },
  {
   "cell_type": "code",
   "execution_count": 7,
   "metadata": {},
   "outputs": [],
   "source": [
    "spikes_data = np.load('spikes.npy')"
   ]
  },
  {
   "cell_type": "code",
   "execution_count": 9,
   "metadata": {},
   "outputs": [
    {
     "data": {
      "text/plain": [
       "(4, 10281600)"
      ]
     },
     "execution_count": 9,
     "metadata": {},
     "output_type": "execute_result"
    }
   ],
   "source": [
    "spikes_data.shape"
   ]
  },
  {
   "cell_type": "markdown",
   "metadata": {},
   "source": [
    "There are 30000 samples per second in this data. We'll create a one dimensional array that corresponds to time in seconds of each sample in the `spikes_data`"
   ]
  },
  {
   "cell_type": "code",
   "execution_count": 10,
   "metadata": {},
   "outputs": [],
   "source": [
    "times_spike_data = np.linspace(0,np.shape(spikes_data)[1]/30000.,np.shape(spikes_data)[1])"
   ]
  },
  {
   "cell_type": "markdown",
   "metadata": {},
   "source": [
    "### **Question 4. Plot the spikes data, 50.0 - 58.0 seconds on each of these four channels**"
   ]
  },
  {
   "cell_type": "markdown",
   "metadata": {},
   "source": []
  },
  {
   "cell_type": "code",
   "execution_count": null,
   "metadata": {},
   "outputs": [],
   "source": []
  },
  {
   "cell_type": "markdown",
   "metadata": {},
   "source": [
    "Remember this morning that the spiking data from an in-vivo Neuropixels recording is typically run through an automated template matching algorithm:\n",
    "\n",
    "And then following that, manually annotated to generated labels:\n",
    "\n",
    "We're going to do a *much* simplified version of spike extraction as an exercise here with these four channels"
   ]
  },
  {
   "cell_type": "markdown",
   "metadata": {},
   "source": [
    "### **Question 5. For each of these channels, find the times that voltage is more negative than -23µV**\n",
    "make four arrays of spike times, one for each channel"
   ]
  },
  {
   "cell_type": "code",
   "execution_count": null,
   "metadata": {},
   "outputs": [],
   "source": []
  },
  {
   "cell_type": "markdown",
   "metadata": {},
   "source": [
    "To correlate these spikes with an experimental variable, we need the times of those variables\n",
    "\n",
    "In the Denman Lab (and many other labs), the final step is to package these labelled neurons along with stimulus information into a single file with a standardized data format (just like a .pdf or a .jpeg is a standardized format): a Neurodata Without Borders File. We will load the nwb for this experiment so we can get some visual stimulus times"
   ]
  },
  {
   "cell_type": "code",
   "execution_count": 11,
   "metadata": {},
   "outputs": [
    {
     "name": "stderr",
     "output_type": "stream",
     "text": [
      "/Users/danieljdenman/opt/anaconda3/envs/nspbootcamp2024/lib/python3.12/site-packages/hdmf/utils.py:668: UserWarning: Ignoring cached namespace 'hdmf-common' version 1.5.0 because version 1.8.0 is already loaded.\n",
      "  return func(args[0], **pargs)\n",
      "/Users/danieljdenman/opt/anaconda3/envs/nspbootcamp2024/lib/python3.12/site-packages/hdmf/utils.py:668: UserWarning: Ignoring cached namespace 'core' version 2.4.0 because version 2.7.0 is already loaded.\n",
      "  return func(args[0], **pargs)\n",
      "/Users/danieljdenman/opt/anaconda3/envs/nspbootcamp2024/lib/python3.12/site-packages/hdmf/utils.py:668: UserWarning: Ignoring cached namespace 'hdmf-experimental' version 0.1.0 because version 0.5.0 is already loaded.\n",
      "  return func(args[0], **pargs)\n"
     ]
    }
   ],
   "source": [
    "nwb = h5py.File('20210922_3592_ABC_g0.nwb','r')\n",
    "io = NWBHDF5IO('20210922_3592_ABC_g0.nwb', mode='r',load_namespaces=True)\n",
    "nwb_ = io.read()"
   ]
  },
  {
   "cell_type": "markdown",
   "metadata": {},
   "source": [
    "this file has information about the neurons extracted from this experiment, as well as other things about the experiment like behavioral outputs, videos of behavior (like motor vidoes) or sensory inputs.\n",
    "\n",
    "Let's first get a tiny fraction of the sensory inputs: visual flashes. we will assign them to a variable called `flashes`"
   ]
  },
  {
   "cell_type": "code",
   "execution_count": 12,
   "metadata": {},
   "outputs": [],
   "source": [
    "flashes = nwb['intervals']['trials']['start_time'][:100]"
   ]
  },
  {
   "cell_type": "code",
   "execution_count": 13,
   "metadata": {},
   "outputs": [
    {
     "name": "stdout",
     "output_type": "stream",
     "text": [
      "(100,)\n"
     ]
    }
   ],
   "source": [
    "print(np.shape(flashes))"
   ]
  },
  {
   "cell_type": "markdown",
   "metadata": {},
   "source": [
    "so we have 100 total flashes. the values here are times, in seconds, when these flashed stimuli happened. Use iteration, or a function, to find out how much time is in between each flashed stimulus. \n",
    "### **Question 7. What are all the times in between flashed stimuli in this experiment? After you find all of the times, then find the mean and standard deviation of times between flashes?** \n"
   ]
  },
  {
   "cell_type": "code",
   "execution_count": null,
   "metadata": {},
   "outputs": [],
   "source": []
  },
  {
   "cell_type": "markdown",
   "metadata": {},
   "source": [
    "The flashes come in two flavors ('bright' and 'dark'), which alternate.\n",
    "### **Question 8. Make two separate arrays, one for bright stimuli and one for dark stimuli** \n"
   ]
  },
  {
   "cell_type": "code",
   "execution_count": null,
   "metadata": {},
   "outputs": [],
   "source": []
  },
  {
   "cell_type": "markdown",
   "metadata": {},
   "source": [
    "### **Question 9. For each bright time, find the spike times from a channel you extracted in Question 5 that occured within the 0.6 seconds after the stimulus**\n",
    "As you find these times, find them *relative to the stimulus time*, so all the times you record end up being between 0 and 0.6. keep a separate list for each trial.  \n"
   ]
  },
  {
   "cell_type": "code",
   "execution_count": null,
   "metadata": {},
   "outputs": [],
   "source": []
  },
  {
   "cell_type": "markdown",
   "metadata": {},
   "source": [
    "We also happen to have all of the extracted and annotated spike times from many neurons in this recording (way more than from the four channels we've used above!). We can get them from the nwb and put then in a pandas DataFrame called df\n"
   ]
  },
  {
   "cell_type": "code",
   "execution_count": 76,
   "metadata": {},
   "outputs": [],
   "source": [
    "df = nwb_.units.to_dataframe()"
   ]
  },
  {
   "cell_type": "markdown",
   "metadata": {},
   "source": [
    "### **Bonus Question. How many neurons were isloated in this recording?**"
   ]
  },
  {
   "cell_type": "code",
   "execution_count": null,
   "metadata": {},
   "outputs": [],
   "source": []
  },
  {
   "cell_type": "markdown",
   "metadata": {},
   "source": [
    "### **Bonus Question. Repeat question 9 for the neuron 59 in the id column of df?**"
   ]
  },
  {
   "cell_type": "code",
   "execution_count": null,
   "metadata": {},
   "outputs": [],
   "source": []
  },
  {
   "cell_type": "markdown",
   "metadata": {},
   "source": [
    "### **Bonus Question. Plot the relative time of each spike of neuron 59 to each bright stimulus and each dark stimulus - a raster like the very top plot in this notebook**"
   ]
  },
  {
   "cell_type": "code",
   "execution_count": null,
   "metadata": {},
   "outputs": [],
   "source": []
  },
  {
   "cell_type": "code",
   "execution_count": null,
   "metadata": {},
   "outputs": [],
   "source": []
  }
 ],
 "metadata": {
  "kernelspec": {
   "display_name": "nspbootcamp2024",
   "language": "python",
   "name": "python3"
  },
  "language_info": {
   "codemirror_mode": {
    "name": "ipython",
    "version": 3
   },
   "file_extension": ".py",
   "mimetype": "text/x-python",
   "name": "python",
   "nbconvert_exporter": "python",
   "pygments_lexer": "ipython3",
   "version": "3.12.4"
  }
 },
 "nbformat": 4,
 "nbformat_minor": 2
}
