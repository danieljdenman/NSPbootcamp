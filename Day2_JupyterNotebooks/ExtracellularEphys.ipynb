{
 "cells": [
  {
   "cell_type": "markdown",
   "metadata": {},
   "source": [
    "# NSP Bootcamp Day 2: Putting python skills into practice\n",
    "## Extracting spiking information from extracellular electrophysiology data\n",
    "\n",
    "<br>\n",
    "Goal: use some raw extracellular electrophysiology voltage data, along with some times for when other things (similar to the awake behavior seen in Crystal's experiments) occurred during the recording, to correlated action potentials from multiple neurons with a neural function. The data come from the Denman Lab. "
   ]
  },
  {
   "cell_type": "markdown",
   "metadata": {},
   "source": [
    "The best way to learn coding is to do, so lets take some of the concepts from the Introduction.ipynb that we went through yesterday and put them in to practice. If thinking of this notebook from yesterday brings a memory of total confusion and bafflement, take this time to go back to that notebook and work through it again. If not, go forth with this notebook! Feel free to work with your neighbor as you go. "
   ]
  },
  {
   "cell_type": "markdown",
   "metadata": {},
   "source": [
    "##### Some of the code is pre-written, and you will simply execute it. In other cases, you will be prompted to write some code lines to advance towards this goal. **There are going to be 8 such prompts,** plus some bonus challenges if you want to keep going.\n",
    "\n",
    "## Imports of packages we will need for this notebook. \n",
    "#### All are standard and those that we have talked about"
   ]
  },
  {
   "cell_type": "code",
   "execution_count": null,
   "metadata": {},
   "outputs": [],
   "source": [
    "import os,sys,glob\n",
    "import numpy as np\n",
    "import pandas as pd\n",
    "import seaborn as sns"
   ]
  },
  {
   "cell_type": "markdown",
   "metadata": {},
   "source": [
    "### Now we will get the Neuropixels data from a Denman Lab server. \n",
    "The details of this are not critical, and can be ignored for now in order to get the rest of this notebook. \n",
    "So, some Jupyter practice: press ```Shift + Enter``` to run a cell and advance to the next one"
   ]
  },
  {
   "cell_type": "code",
   "execution_count": null,
   "metadata": {},
   "outputs": [],
   "source": [
    "data = "
   ]
  },
  {
   "cell_type": "code",
   "execution_count": null,
   "metadata": {},
   "outputs": [],
   "source": []
  },
  {
   "cell_type": "markdown",
   "metadata": {},
   "source": [
    "### **Question 1. what kind type of variable is `data`?** \n",
    "hint: use a function that returns the data type of the input it receives "
   ]
  },
  {
   "cell_type": "code",
   "execution_count": null,
   "metadata": {},
   "outputs": [],
   "source": []
  },
  {
   "cell_type": "markdown",
   "metadata": {},
   "source": [
    "### **Question 2. How many independent electrodes are there in `data`? \n",
    "To help answer this, note that there are 00000000 samples of time\n"
   ]
  },
  {
   "cell_type": "markdown",
   "metadata": {},
   "source": []
  }
 ],
 "metadata": {
  "language_info": {
   "name": "python"
  }
 },
 "nbformat": 4,
 "nbformat_minor": 2
}
