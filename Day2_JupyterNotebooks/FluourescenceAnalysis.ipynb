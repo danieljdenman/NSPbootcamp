{
 "cells": [
  {
   "cell_type": "markdown",
   "metadata": {},
   "source": [
    "# Biological Imaging Analysis with Python\n",
    "#### 1. Algorithmic cell counting\n",
    "#### 2. Fluorescence quantification\n",
    "#### 3. Automatic figure regeneration\n"
   ]
  },
  {
   "cell_type": "markdown",
   "metadata": {},
   "source": [
    "##### Some of the code is pre-written, and you will simply execute it. In other cases, you will be prompted to write some code lines to advance towards this goal. **There are going to be 8 such prompts,** plus some bonus challenges if you want to keep going.\n",
    "\n",
    "## Imports of packages we will need for this notebook. \n",
    "#### All of these are standard and most that we have talked about. Other packages will be introduced as needed."
   ]
  },
  {
   "cell_type": "code",
   "execution_count": 6,
   "metadata": {},
   "outputs": [],
   "source": [
    "import numpy as np\n",
    "import seaborn as sns\n",
    "import os,sys,glob\n",
    "import matplotlib.pyplot as plt\n",
    "%matplotlib inline"
   ]
  },
  {
   "cell_type": "markdown",
   "metadata": {},
   "source": [
    "one packages we haven't talked about is this custom \"package\" ```utils``` i have added to this repository. it only has one function for now, which we will use much later, but it has an example for how to import a local package of your making, for reusing code across notebooks. note that this code is in viewable in the sidebar <--- to the left, in the ```utils``` folder"
   ]
  },
  {
   "cell_type": "code",
   "execution_count": 2,
   "metadata": {},
   "outputs": [],
   "source": [
    "from utils.utils import cleanAxes"
   ]
  },
  {
   "cell_type": "markdown",
   "metadata": {},
   "source": [
    "### 1. Algorithmic cell counting. \n",
    "#### The goal of this section is to develop some code that will automatically count things in an image. Generally speaking, this type of automated image analysis is quite useful - counting how many cells are in a culture dish, or how many nuclei have fragmented (apoptosis), or how many PSD95 (or whatever!) puncta there are in an image. \n",
    "Also, as with nearly all things, it is certainly language-independent. Ernie has a lot of expertise in this area with MATLAB!\n",
    "#### First, we'll load an image of some cells in culture. \n",
    "We'll use a loading function from the ```matplotlib``` package (imported above as ```plt```):"
   ]
  },
  {
   "cell_type": "code",
   "execution_count": 3,
   "metadata": {},
   "outputs": [],
   "source": [
    "image = plt.imread(\"../data/cell-counting_image.png\")"
   ]
  },
  {
   "cell_type": "markdown",
   "metadata": {},
   "source": [
    "So, we've loaded a pre-provided , we think, no error. \n",
    "<br>**First question of this exercise:<br>Q1. What type of data is ```image```? write some code that will give the answer in the cell below:**"
   ]
  },
  {
   "cell_type": "code",
   "execution_count": 4,
   "metadata": {},
   "outputs": [
    {
     "data": {
      "text/plain": [
       "numpy.ndarray"
      ]
     },
     "execution_count": 4,
     "metadata": {},
     "output_type": "execute_result"
    }
   ],
   "source": [
    "type(image)"
   ]
  },
  {
   "cell_type": "markdown",
   "metadata": {},
   "source": [
    "But what does this image of cells look like, actually? we want to take a look to make sure everything looks as we would expect"
   ]
  },
  {
   "cell_type": "code",
   "execution_count": null,
   "metadata": {},
   "outputs": [],
   "source": [
    "plt.imshow(image)"
   ]
  },
  {
   "cell_type": "markdown",
   "metadata": {},
   "source": [
    "A color image! Great. But what is the information in each color? How does ```plt.imshow(image)``` know to make this a color image? Let's check the shape of ```image```"
   ]
  },
  {
   "cell_type": "code",
   "execution_count": null,
   "metadata": {},
   "outputs": [],
   "source": [
    "np.shape(image)"
   ]
  },
  {
   "cell_type": "markdown",
   "metadata": {},
   "source": [
    "Let's see what is in each color, which is each of the three 797x892 layers:"
   ]
  },
  {
   "cell_type": "code",
   "execution_count": null,
   "metadata": {},
   "outputs": [],
   "source": [
    "for color in range(np.shape(image)[2]):  # go through each color image\n",
    "    plt.figure()            # make a new figure\n",
    "    plt.imshow(image[:,:,color],cmap=plt.cm.Greys) # show that image, in black and white"
   ]
  },
  {
   "cell_type": "markdown",
   "metadata": {},
   "source": [
    "There's not much information in the colors, so let's combine them. We'll do it by "
   ]
  },
  {
   "cell_type": "code",
   "execution_count": 10,
   "metadata": {},
   "outputs": [],
   "source": [
    "image_bw = np.sum(image,axis=2)"
   ]
  },
  {
   "cell_type": "markdown",
   "metadata": {},
   "source": [
    "Let's take a look at what this summed image looks like. \n",
    "<br>**Q2: plot  ```image_bw```**"
   ]
  },
  {
   "cell_type": "code",
   "execution_count": null,
   "metadata": {},
   "outputs": [],
   "source": []
  },
  {
   "cell_type": "markdown",
   "metadata": {},
   "source": [
    "To keep going towards our goal, we're going to use some very useful image analysius packages: ```scikit-image```, or ```skimage```, and one part of ```scipy```, ```scipy.ndimage```. These are packages that were developed primarily by computer scientists for machine vision purposes, but we can take advantage of them for our task here."
   ]
  },
  {
   "cell_type": "code",
   "execution_count": 13,
   "metadata": {},
   "outputs": [],
   "source": [
    "from skimage.filters import threshold_otsu\n",
    "from scipy import ndimage"
   ]
  },
  {
   "cell_type": "markdown",
   "metadata": {},
   "source": [
    "Let's first get rid of some noise, by smoothing the image with a 2-D Gaussian filter (i.e., an ellipse). This averages each pixels with it's neighbors in the ellipse, sliding the ellipse around the image. "
   ]
  },
  {
   "cell_type": "code",
   "execution_count": null,
   "metadata": {},
   "outputs": [],
   "source": [
    "guassian_sigma = 2.5"
   ]
  },
  {
   "cell_type": "code",
   "execution_count": null,
   "metadata": {},
   "outputs": [],
   "source": [
    "plt.imshow(ndimage.gaussian_filter(image_bw,guassian_sigma))"
   ]
  },
  {
   "cell_type": "markdown",
   "metadata": {},
   "source": [
    "Next, we try label every pixels has having a cell there or not, so binary yes or no:"
   ]
  },
  {
   "cell_type": "code",
   "execution_count": null,
   "metadata": {},
   "outputs": [],
   "source": [
    "thresh = threshold_otsu(ndimage.gaussian_filter(image_bw,guassian_sigma))\n",
    "# thresh = ndimage.gaussian_filter(thresh,9)\n",
    "binary = ndimage.gaussian_filter(image_bw,guassian_sigma) > thresh"
   ]
  },
  {
   "cell_type": "code",
   "execution_count": null,
   "metadata": {},
   "outputs": [],
   "source": [
    "plt.imshow(binary)"
   ]
  },
  {
   "cell_type": "code",
   "execution_count": null,
   "metadata": {},
   "outputs": [],
   "source": [
    "filled_in = ndimage.binary_fill_holes(binary)"
   ]
  },
  {
   "cell_type": "code",
   "execution_count": null,
   "metadata": {},
   "outputs": [],
   "source": [
    "plt.imshow(filled_in)"
   ]
  },
  {
   "cell_type": "markdown",
   "metadata": {},
   "source": [
    "Finally, we count how many things there are in this image"
   ]
  },
  {
   "cell_type": "code",
   "execution_count": null,
   "metadata": {},
   "outputs": [],
   "source": [
    "labeled_cells, b = ndimage.label(filled_in)"
   ]
  },
  {
   "cell_type": "markdown",
   "metadata": {},
   "source": [
    "**Q3: How many cells are there in the image? Assign the number to the variable ```cell_count```** _Hint: google ```ndimage.label``` to know what the outputs assigned in the above cell are._"
   ]
  },
  {
   "cell_type": "code",
   "execution_count": null,
   "metadata": {},
   "outputs": [],
   "source": []
  },
  {
   "cell_type": "markdown",
   "metadata": {},
   "source": [
    "### 2. Comparing fluourescence images\n",
    "#### The goal of this section will be to quantify the overlap between fluoresence images. These raw data have been graciously provided by Helena Barr from the Hughes Lab. These are images of microglia. \n",
    "Again we'll use the ```skimage``` pacakge, in this case to load the images. We will load the images into a ```numpy <ndarray>```"
   ]
  },
  {
   "cell_type": "code",
   "execution_count": null,
   "metadata": {},
   "outputs": [],
   "source": [
    "from skimage import io"
   ]
  },
  {
   "cell_type": "code",
   "execution_count": null,
   "metadata": {},
   "outputs": [],
   "source": [
    "image_stack = io.imread('../data/Microglia_1d.tif')"
   ]
  },
  {
   "cell_type": "markdown",
   "metadata": {},
   "source": [
    "As you can tell from the variable name, this one file is an image stack."
   ]
  },
  {
   "cell_type": "markdown",
   "metadata": {},
   "source": [
    "<br>**Q4. How many images are there in this image stack? Another way to ask this: what is the shape of ```image_stack```? write some code that will give the answer in the cell(s) below. Assign variables ```num_images``` , ```width```, ```length``` with your answer** If you need more cells, go ahead and add them!"
   ]
  },
  {
   "cell_type": "code",
   "execution_count": null,
   "metadata": {},
   "outputs": [],
   "source": []
  },
  {
   "cell_type": "markdown",
   "metadata": {},
   "source": [
    "Let's take a look at the images:"
   ]
  },
  {
   "cell_type": "code",
   "execution_count": null,
   "metadata": {},
   "outputs": [],
   "source": [
    "for image_number in range(num_images):\n",
    "    plt.figure()\n",
    "    plt.imshow(image_stack[image_number,:,:])"
   ]
  },
  {
   "cell_type": "markdown",
   "metadata": {},
   "source": [
    "These images look largely the same, but slightly different (they are a time-lapse capture). \n",
    "<br>Let's ask: over these ```num_images```, does the cell increase or decrease fluorescence? How much?"
   ]
  },
  {
   "cell_type": "markdown",
   "metadata": {},
   "source": [
    "Let's wrap the preprocessing we did above into a function, which takes in an image and returns that image, after it has been thresholded and filled in. "
   ]
  },
  {
   "cell_type": "code",
   "execution_count": null,
   "metadata": {},
   "outputs": [],
   "source": [
    "def preprocess_image(image,gaussian_sigma=.75,threshold=130):\n",
    "    binary = ndimage.gaussian_filter(image,gaussian_sigma) > threshold\n",
    "    filled_in = ndimage.binary_fill_holes(binary)\n",
    "    return filled_in"
   ]
  },
  {
   "cell_type": "markdown",
   "metadata": {},
   "source": [
    "We can now go over the stack images, which is going through time, and see how this cell is changing"
   ]
  },
  {
   "cell_type": "code",
   "execution_count": null,
   "metadata": {},
   "outputs": [],
   "source": [
    "for ind in range(num_images-1):\n",
    "    diff_between_images = preprocess_image(image_stack[ind+1,:,:]) ^ preprocess_image(image_stack[ind,:,:])\n",
    "    plt.figure()\n",
    "    plt.imshow(diff_between_images,cmap=plt.cm.Greys)"
   ]
  },
  {
   "cell_type": "markdown",
   "metadata": {},
   "source": [
    "Now, instead of plottting, let's measure the number of pixels that are different\n"
   ]
  },
  {
   "cell_type": "code",
   "execution_count": null,
   "metadata": {},
   "outputs": [],
   "source": [
    "pixel_differences = [] # make a list\n",
    "for ind in range(num_images-1):\n",
    "    diff_between_images = preprocess_image(image_stack[ind+1,:,:]) ^ preprocess_image(image_stack[ind,:,:])\n",
    "    number_of_different_pixels = np.sum(diff_between_images)\n",
    "    pixel_differences.extend([number_of_different_pixels])\n",
    "pixel_differences = np.array(pixel_differences)"
   ]
  },
  {
   "cell_type": "code",
   "execution_count": null,
   "metadata": {},
   "outputs": [],
   "source": [
    "plt.plot(pixel_differences)\n",
    "plt.ylabel('percentage of different pixels')\n",
    "plt.xlabel('time (arbitrary unit)')"
   ]
  },
  {
   "cell_type": "markdown",
   "metadata": {},
   "source": [
    "Great, we have the number of pixels that has changes. But the meaning of this depends on how many pixels there are in the image. Let's convert this to the percentage of pixels that have changed. \n",
    "<br>**Q5: How many pixels are there in each image? Assign this to the variable ```total_number_of_pixels```**"
   ]
  },
  {
   "cell_type": "code",
   "execution_count": null,
   "metadata": {},
   "outputs": [],
   "source": []
  },
  {
   "cell_type": "markdown",
   "metadata": {},
   "source": [
    "<br>**Q6: Remake the above plot, but with percentage of different pixels instead of total number**"
   ]
  },
  {
   "cell_type": "code",
   "execution_count": null,
   "metadata": {},
   "outputs": [],
   "source": []
  },
  {
   "cell_type": "markdown",
   "metadata": {},
   "source": [
    "<br>Let's next make a function that makes a bar chart, which shows the mean and standard deviation of the percentage change over time. I'll write this one:"
   ]
  },
  {
   "cell_type": "code",
   "execution_count": null,
   "metadata": {},
   "outputs": [],
   "source": [
    "def get_percent_change_between_image(stacks):\n",
    "    means = np.zeros(len(stacks))\n",
    "    stds = np.zeros(len(stacks))\n",
    "    for i,image_stack in enumerate(stacks):\n",
    "        pixel_differences = [] # make a list\n",
    "        for ind in range(num_images-1):\n",
    "            diff_between_images = preprocess_image(image_stack[ind+1,:,:]) ^ preprocess_image(image_stack[ind,:,:])\n",
    "            number_of_different_pixels = np.sum(diff_between_images)\n",
    "            pixel_differences.extend([number_of_different_pixels])\n",
    "        pixel_differences = np.array(pixel_differences) / total_number_of_pixels\n",
    "\n",
    "        means[i]=np.mean(pixel_differences)\n",
    "        stds[i] =np.std(pixel_differences)\n",
    "\n",
    "    return means, stds"
   ]
  },
  {
   "cell_type": "code",
   "execution_count": null,
   "metadata": {},
   "outputs": [],
   "source": [
    "mean, std = get_percent_change_between_image([image_stack])\n",
    "\n",
    "plt.bar(1,mean,yerr=std,color='b')\n",
    "plt.xlim(-2,4)\n",
    "plt.ylim(0,0.05)\n",
    "plt.ylabel('percentage difference, mean')\n",
    "plt.xticks([1],['Microglia1d'])\n",
    "\n",
    "cleanAxes(plt.gca(),leftLabels=True,bottomLabels=True)"
   ]
  },
  {
   "cell_type": "markdown",
   "metadata": {},
   "source": [
    "### 3. Automating Figure production"
   ]
  },
  {
   "cell_type": "markdown",
   "metadata": {},
   "source": [
    "One very convenient application of scripting languages, whether it MATLAB or python or whatever, is the ability to automate your fixed analyses to produce updated plots once you have more data. This could be done with _any_ type of data, but in this final example we will do it with the Hughes Lab microglia data.\n",
    "<br><br>First, let's make a plot of some analysis of one set of data. In this case, we will use ```microglia_1d.tif```. But instead of directly writing a path to this data, we'll search a folder for all data that starts with ```\"Microglia\"```"
   ]
  },
  {
   "cell_type": "code",
   "execution_count": null,
   "metadata": {},
   "outputs": [],
   "source": [
    "path_to_data_folder = '../data'"
   ]
  },
  {
   "cell_type": "markdown",
   "metadata": {},
   "source": [
    "_Note_: in this case for our exercise, we are using a local folder in the JupyterHub folder. But it could be any folder. Your could point it to Desktop, or Documents, or \"C:/folder_where_keep_my_data:\", etc.\n",
    "<br><br>\n",
    "Now we'll get a list of all of the files in this folder that are called ```microglia_1```+any letter or character+```.tif```. we use use two python standard library pacakages: ```glob```, which is great for searching folders in flexible ways, and ```os```, which is critical for cross-platform compatibility when browsing file systems"
   ]
  },
  {
   "cell_type": "code",
   "execution_count": null,
   "metadata": {},
   "outputs": [],
   "source": [
    "microglia_image_paths = glob.glob(os.path.join(path_to_data_folder,'Microglia_1*.tif'))\n",
    "print(microglia_image_paths)"
   ]
  },
  {
   "cell_type": "markdown",
   "metadata": {},
   "source": [
    "so, we can get this image by loading it the same way we did before:"
   ]
  },
  {
   "cell_type": "code",
   "execution_count": null,
   "metadata": {},
   "outputs": [],
   "source": [
    "image_stack_1 = io.imread(microglia_image_paths[0])"
   ]
  },
  {
   "cell_type": "markdown",
   "metadata": {},
   "source": [
    "Now, let's imagine you collect some more data. You put it in the same folder, and you call it ```Microglia_2d.tif```"
   ]
  },
  {
   "cell_type": "markdown",
   "metadata": {},
   "source": [
    "**Q7: Use ```glob``` to find all .tif files that start with \"Microglia\" in the same folder. Call this ```image_paths```**"
   ]
  },
  {
   "cell_type": "code",
   "execution_count": null,
   "metadata": {},
   "outputs": [],
   "source": []
  },
  {
   "cell_type": "code",
   "execution_count": null,
   "metadata": {},
   "outputs": [],
   "source": [
    "image_paths = glob.glob(os.path.join(path_to_data_folder,'Microglia_*'))"
   ]
  },
  {
   "cell_type": "markdown",
   "metadata": {},
   "source": [
    "Now we get all of these tif images, and "
   ]
  },
  {
   "cell_type": "code",
   "execution_count": null,
   "metadata": {},
   "outputs": [],
   "source": [
    "images_all = [io.imread(path) for path in image_paths]"
   ]
  },
  {
   "cell_type": "code",
   "execution_count": null,
   "metadata": {},
   "outputs": [],
   "source": [
    "means, stds = get_percent_change_between_image(images_all)"
   ]
  },
  {
   "cell_type": "code",
   "execution_count": null,
   "metadata": {},
   "outputs": [],
   "source": [
    "image_paths"
   ]
  },
  {
   "cell_type": "code",
   "execution_count": null,
   "metadata": {},
   "outputs": [],
   "source": [
    "plt.bar(range(len(means)),means,yerr=stds,color='b')\n",
    "# plt.xlim(-2,4)\n",
    "plt.ylim(0,0.05)\n",
    "plt.ylabel('percentage difference, mean')\n",
    "\n",
    "cleanAxes(plt.gca(),leftLabels=True,bottomLabels=True)"
   ]
  },
  {
   "cell_type": "markdown",
   "metadata": {},
   "source": [
    "**Q8: Make the plot again, but as a box plot with 95% CI for each image.** "
   ]
  },
  {
   "cell_type": "code",
   "execution_count": null,
   "metadata": {},
   "outputs": [],
   "source": []
  },
  {
   "cell_type": "markdown",
   "metadata": {},
   "source": [
    "**Q9: Plot the percentage difference as a function of time (in between images in a stack). Each time point should have the average of Microglia1d and Microglia2d.**"
   ]
  },
  {
   "cell_type": "code",
   "execution_count": null,
   "metadata": {},
   "outputs": [],
   "source": []
  }
 ],
 "metadata": {
  "kernelspec": {
   "display_name": "Python 3",
   "language": "python",
   "name": "python3"
  },
  "language_info": {
   "codemirror_mode": {
    "name": "ipython",
    "version": 3
   },
   "file_extension": ".py",
   "mimetype": "text/x-python",
   "name": "python",
   "nbconvert_exporter": "python",
   "pygments_lexer": "ipython3",
   "version": "3.7.11"
  }
 },
 "nbformat": 4,
 "nbformat_minor": 4
}
