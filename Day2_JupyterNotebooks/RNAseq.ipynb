{
 "cells": [
  {
   "cell_type": "markdown",
   "metadata": {},
   "source": [
    "# RNA Seq Analysis with Python\n",
    "#### The RNA-Seq data here are all from oligodendrocytes, downloaded from [the Linnarson lab website](http://linnarssonlab.org/oligodendrocytes/). \n",
    "The data come from [this paper](https://science.sciencemag.org/content/352/6291/1326.long), and are gene counts that are aligned to the mouse genome.\n",
    "#### The goals of this notebook will be to:\n",
    "1. get some data and visualize some gene counts\n",
    "2. make a t-SNE visualization of the cell types like this one:\n",
    "![Marquez, Zeisel, et al 2016](../res/oligoTSNE_MarquezZeisel2016.png)\n",
    "### Marquez, Zeisel et al., Science, 2016\n",
    "3. cluster the data and use it to color the tSNE visualization\n",
    "\n",
    "##### Some of the code is pre-written, and you will simply execute it. In other cases, you will be prompted to write some code lines to advance towards this goal. **There are going to be 8 such prompts,** plus some bonus challenges if you want to keep going.\n",
    "<br>\n",
    "<br>\n"
   ]
  },
  {
   "cell_type": "markdown",
   "metadata": {},
   "source": [
    "#### imports of things we will need for this notebook"
   ]
  },
  {
   "cell_type": "code",
   "execution_count": 1,
   "metadata": {},
   "outputs": [],
   "source": [
    "import numpy as np\n",
    "import os,sys,glob\n",
    "import pandas as pd"
   ]
  },
  {
   "cell_type": "markdown",
   "metadata": {},
   "source": [
    "we're going to use Google Cloud storage to get some data, so we need to install a the Google Cloud Storage API, which is called `gcsfs`. we can do this from the command line (a.k.a. Terminal or shell), but `jupyter notebooks` give us a nice backdoor if you lead with a `!` "
   ]
  },
  {
   "cell_type": "code",
   "execution_count": null,
   "metadata": {},
   "outputs": [],
   "source": [
    "!pip install gcsfs"
   ]
  },
  {
   "cell_type": "markdown",
   "metadata": {},
   "source": [
    "first, we need to get the data. this data is [publicly available on Gene Expressioon Omnibus](https://www.ncbi.nlm.nih.gov/geo/query/acc.cgi?acc=GSE75330), from above cited paper. \n",
    "- One option is to go that link, download the file, decompress it, and put the resulting file somewhere on your computer. \n",
    "- Dan also put this file in a Google Cloud storage bucket so you all don't have to download it separately. pandas allows you to read a file directly from a Google Cloud storage bucket, so this what we will start with:"
   ]
  },
  {
   "cell_type": "markdown",
   "metadata": {},
   "source": [
    "load some RNASeq data. we will use ```pandas``` to load the data, creating a ```pandas``` ```DataFrame```. We name this ```DataFrame``` ```df```. _Note that this will take a minute - you are reading ~230MB of data from the cloud. It actually may take more than a minute; it takes ~45 seconds on Dan's home internet connection_ "
   ]
  },
  {
   "cell_type": "code",
   "execution_count": 4,
   "metadata": {},
   "outputs": [],
   "source": [
    "df = pd.read_csv('gs://nsp_bootcamp/GSE75330_Marques_et_al_mol_counts2.tab',sep=\"\\t\")\n",
    "df = df.set_index('cellid') # don't worry too much about this; we are making what used to be regular column (cellid) the special \"index\" column can explain more if needed "
   ]
  },
  {
   "cell_type": "markdown",
   "metadata": {},
   "source": [
    "as a reminder, a ```DataFrame``` is fundamentally large table.  we can look at just the top of this table using ```df.head()```"
   ]
  },
  {
   "cell_type": "code",
   "execution_count": null,
   "metadata": {},
   "outputs": [],
   "source": [
    "df.head()"
   ]
  },
  {
   "cell_type": "markdown",
   "metadata": {},
   "source": [
    "this shows us the rows and columns of ```df```. The rows here in ```df.head``` aren't the most informatively named, but they are gene names. Columns are samples, independent RNA-Seq datasets from mouse oligodenrocytes.  The values are gene counts.\n",
    "<br> Let's look at the shape of ```df``` this will tell us how many genes and how many oligodendrocytes we have"
   ]
  },
  {
   "cell_type": "code",
   "execution_count": null,
   "metadata": {},
   "outputs": [],
   "source": [
    "df.shape"
   ]
  },
  {
   "cell_type": "markdown",
   "metadata": {},
   "source": [
    "Let's take a look around the data to convince ourselves we really have oligodenroctye samples. First, let's grab the gene counts for a gene we expect to be expressed in mature oligodenrocytes: Olig1"
   ]
  },
  {
   "cell_type": "code",
   "execution_count": 7,
   "metadata": {},
   "outputs": [],
   "source": [
    "olig1 = df[df.index=='Olig1']"
   ]
  },
  {
   "cell_type": "markdown",
   "metadata": {},
   "source": [
    "<br>**First question of this exercise:\n",
    "<br>Q1: What type of data is ```olig1```? write some code that will give the answer in the cell below:**"
   ]
  },
  {
   "cell_type": "code",
   "execution_count": null,
   "metadata": {},
   "outputs": [],
   "source": []
  },
  {
   "cell_type": "markdown",
   "metadata": {},
   "source": [
    "A quick trick in pandas for extracting data is ```.values()```. this will return the values of the table into the more flexible ```numpy``` ```ndarray```"
   ]
  },
  {
   "cell_type": "code",
   "execution_count": null,
   "metadata": {},
   "outputs": [],
   "source": [
    "olig1.values[0]"
   ]
  },
  {
   "cell_type": "markdown",
   "metadata": {},
   "source": [
    "note that we add a ```[0]``` to get just the first list of values. ```.values``` actually returns a list of ```ndarray```s, a useful feature when returning values of more than one row in a table. since ```olig1``` only has one row, we only grab that one.\n",
    "<br>\n",
    "<br>\n",
    "so we have some values for Olig1 counts. how does that compare to something we expect to be low? How about Kcna3, a delayed rectifier channel that shouldn't really be in oligodendrocytes. We'll start by making sure that these genes are in our data set by searching the ```df``` index for \"Kcna\" genes"
   ]
  },
  {
   "cell_type": "code",
   "execution_count": null,
   "metadata": {},
   "outputs": [],
   "source": [
    "df.index[df.index.str.startswith('Kcna')] "
   ]
  },
  {
   "cell_type": "markdown",
   "metadata": {},
   "source": [
    "yep, Kcna3 is there! \n",
    "<br><br>**Q2: Get the counts of Kcna3 across our samples here, and assign these counts, as type ```ndarray```, to the variable ```Kcna3_counts```**"
   ]
  },
  {
   "cell_type": "code",
   "execution_count": null,
   "metadata": {},
   "outputs": [],
   "source": []
  },
  {
   "cell_type": "markdown",
   "metadata": {},
   "source": [
    "Let's plot Olig1 and Kcna3 across the samples:"
   ]
  },
  {
   "cell_type": "code",
   "execution_count": null,
   "metadata": {},
   "outputs": [],
   "source": [
    "plt.plot(df[df.index=='Olig1'].values[0],color='#cc33ff',label='Olig1')\n",
    "plt.plot(Kcna3_counts,color='k',label='Knca3')\n",
    "plt.legend()\n",
    "plt.ylabel('count');\n",
    "plt.xlabel('sample')"
   ]
  },
  {
   "cell_type": "markdown",
   "metadata": {},
   "source": [
    "uh oh, that seems to not work for some reason. \n",
    "<br>**Q3: why? make the above plot work.**"
   ]
  },
  {
   "cell_type": "code",
   "execution_count": null,
   "metadata": {},
   "outputs": [],
   "source": []
  },
  {
   "cell_type": "markdown",
   "metadata": {},
   "source": [
    "if you got the plot to work, it is looking reasonable! many more counts of Olig1 than Kcna3.\n",
    "**Q4: add Olig2, Olig3, and myelin basic protein (Mbp) to the plot.**<br> _hint_ use flow control, i.e., make a for loop that iterates over the genes we want to add to the plot, using the code from the above cell"
   ]
  },
  {
   "cell_type": "code",
   "execution_count": 19,
   "metadata": {},
   "outputs": [],
   "source": [
    "genes = ['Olig1','Kcna3','Olig2','Olig3','Mbp']\n"
   ]
  },
  {
   "cell_type": "code",
   "execution_count": 97,
   "metadata": {},
   "outputs": [],
   "source": [
    "genes = ['Olig1','Kcna3','Olig2','Olig3','Mbp']\n"
   ]
  },
  {
   "cell_type": "markdown",
   "metadata": {},
   "source": [
    "Looks like we've got oligos! \n",
    "<br><br>\n",
    "How many types of oligos? Lets try some clustering and visualization"
   ]
  },
  {
   "cell_type": "markdown",
   "metadata": {},
   "source": [
    "First, we will retype and reshape our table of genes and cells, so that it is an ```ndarray``` that is (cells,genes). This is for use with ```sklearn```, which [wants](https://scikit-learn.org/stable/modules/generated/sklearn.manifold.TSNE.html#sklearn.manifold.TSNE.fit_transform) the input to be: \n",
    "> Parameters: X: array, shape (n_samples, n_features) or (n_samples, n_samples)\n",
    "If the metric is ‘precomputed’ X must be a square distance matrix. Otherwise it contains a sample per row. If the method is ‘exact’, X may be a sparse matrix of type ‘csr’, ‘csc’ or ‘coo’. If the method is ‘barnes_hut’ and the metric is ‘precomputed’, X may be a precomputed sparse graph."
   ]
  },
  {
   "cell_type": "code",
   "execution_count": null,
   "metadata": {},
   "outputs": [],
   "source": [
    "data = df.to_numpy().T\n",
    "print(data.shape)"
   ]
  },
  {
   "cell_type": "markdown",
   "metadata": {},
   "source": [
    "Now we will do our tSNE embedding. ...tSNE? For more on tSNE, check [this out](https://lvdmaaten.github.io/tsne/). We'll use the scikit-learn implentation of tSNE, with parameters from [Marquez, Zeisel et al](https://science.sciencemag.org/content/352/6291/1326.long) (the paper from which we got this data)."
   ]
  },
  {
   "cell_type": "code",
   "execution_count": 8,
   "metadata": {},
   "outputs": [],
   "source": [
    "import time\n",
    "from sklearn.manifold import TSNE"
   ]
  },
  {
   "cell_type": "code",
   "execution_count": null,
   "metadata": {},
   "outputs": [],
   "source": [
    "time_start = time.time()\n",
    "tsne = TSNE(n_components=2, verbose=1, perplexity=80, n_iter=1000)\n",
    "tsne_results = tsne.fit_transform(data)\n",
    "print('t-SNE done! Time elapsed: {} seconds'.format(time.time()-time_start))"
   ]
  },
  {
   "cell_type": "markdown",
   "metadata": {},
   "source": [
    "Note: this might take a bit of long time to execute. it takes 5 minutes on Dan's laptop. it will print what it is doing as it goes. If you're bored, go read about [scanpy](https://icb-scanpy.readthedocs-hosted.com/en/stable/index.html). make some notes about it, in a markdown cell below here:"
   ]
  },
  {
   "cell_type": "code",
   "execution_count": null,
   "metadata": {},
   "outputs": [],
   "source": []
  },
  {
   "cell_type": "markdown",
   "metadata": {},
   "source": [
    "plot the results of the tSNE embedding"
   ]
  },
  {
   "cell_type": "code",
   "execution_count": null,
   "metadata": {},
   "outputs": [],
   "source": [
    "plt.figure(figsize=(8,8))\n",
    "plt.scatter(tsne_results[:,0],tsne_results[:,1],alpha=0.1,color='k')\n",
    "plt.xlabel('tSNE 1');plt.ylabel('tSNE 2')\n",
    "# plt.gca().set_aspect(1)#make it a sqaure"
   ]
  },
  {
   "cell_type": "markdown",
   "metadata": {},
   "source": [
    "cool, an embedding! This looks pretty similar, but not so much like the figure in the paper. Why? maybe one reason is that we used all of the genes, which could be noisy. Also, we had to use a less exact tSNE method that used in the paper, because the dataset still had all the genes in it.\n",
    "<br><br>Let's go back to our data, ```data```. Perhaps we can remove noisy genes that aren't highly expressed by any cells in the data. We can sum across all of the cells:"
   ]
  },
  {
   "cell_type": "code",
   "execution_count": null,
   "metadata": {},
   "outputs": [],
   "source": [
    "total_counts = data.sum(axis=0)"
   ]
  },
  {
   "cell_type": "markdown",
   "metadata": {},
   "source": [
    "and see a histogram of these counts. we'll make it a on logarithmic scale so we can see it:"
   ]
  },
  {
   "cell_type": "code",
   "execution_count": null,
   "metadata": {},
   "outputs": [],
   "source": [
    "logbins = np.logspace(np.log10(1),np.log10(np.max(total_counts)),100)\n",
    "plt.hist(total_counts, bins=logbins)\n",
    "plt.xscale('log')\n",
    "plt.axvline(np.shape(data)[0]*2,color='r',ls='--')"
   ]
  },
  {
   "cell_type": "markdown",
   "metadata": {},
   "source": [
    "Let's use a cutoff of total_counts across all cells of 1.5 <br>\n",
    "**Q5: find all of the genes that aren't highly expressed (i.e., less than 1.5 counts, on average). this could be a list of gene names, or it could be an array of indexes in to ```data```**  "
   ]
  },
  {
   "cell_type": "code",
   "execution_count": null,
   "metadata": {},
   "outputs": [],
   "source": []
  },
  {
   "cell_type": "markdown",
   "metadata": {},
   "source": [
    "**Q6: remove these from ```data```. call this new, reduced version, ```data_subset```** "
   ]
  },
  {
   "cell_type": "code",
   "execution_count": null,
   "metadata": {},
   "outputs": [],
   "source": []
  },
  {
   "cell_type": "code",
   "execution_count": null,
   "metadata": {},
   "outputs": [],
   "source": []
  },
  {
   "cell_type": "markdown",
   "metadata": {},
   "source": [
    "now we'll run our tSNE again, on the subset of data. it'll be much faster!"
   ]
  },
  {
   "cell_type": "code",
   "execution_count": null,
   "metadata": {},
   "outputs": [],
   "source": [
    "time_start = time.time()\n",
    "tsne = TSNE(n_components=2, verbose=1, perplexity=80, n_iter=1000)\n",
    "tsne_results = tsne.fit_transform(data_subset)\n",
    "print('t-SNE done! Time elapsed: {} seconds'.format(time.time()-time_start))"
   ]
  },
  {
   "cell_type": "code",
   "execution_count": null,
   "metadata": {},
   "outputs": [],
   "source": [
    "plt.figure(figsize=(8,8))\n",
    "plt.scatter(tsne_results[:,0],tsne_results[:,1],alpha=0.1,color='k')\n",
    "plt.xlabel('tSNE 1');plt.ylabel('tSNE 2')"
   ]
  },
  {
   "cell_type": "markdown",
   "metadata": {},
   "source": [
    "We could also do a tSNE embedding with the more precise method used in Marquez, Zeisel 2016, but this will still take a long while. I have run it here (~12-70 minutes on a beefy 2019 MacBook, depending on how many dims you use) and plotted the results:"
   ]
  },
  {
   "cell_type": "code",
   "execution_count": null,
   "metadata": {},
   "outputs": [],
   "source": [
    "time_start = time.time()\n",
    "tsne = TSNE(n_components=2, verbose=1, learning_rate = 100., perplexity=80, n_iter=1000, metric = 'correlation',method='exact')\n",
    "tsne_results = tsne.fit_transform(data_subset)\n",
    "print('t-SNE done! Time elapsed: {} seconds'.format(time.time()-time_start))"
   ]
  },
  {
   "cell_type": "code",
   "execution_count": null,
   "metadata": {},
   "outputs": [],
   "source": [
    "plt.figure(figsize=(8,8))\n",
    "plt.scatter(tsne_results[:,0],tsne_results[:,1],alpha=0.1,color='k')\n",
    "plt.xlabel('tSNE 1');plt.ylabel('tSNE 2')\n",
    "# plt.gca().set_aspect(1)#make it a sqaure"
   ]
  },
  {
   "cell_type": "markdown",
   "metadata": {},
   "source": [
    "Not to far off from the paper! compare to the top of this notebook. (we are using slighly different gene selection, so we can simplify it here).\n",
    "Finally, we'll use a nice specialized package made for this kind of analysis (single cell sequencing), ```scanpy```. Note that we could have used this to do the tSNE embedding as well, but we wanted to do at least one thing with a (slightly) less specialized package. "
   ]
  },
  {
   "cell_type": "code",
   "execution_count": 9,
   "metadata": {},
   "outputs": [],
   "source": [
    "import scanpy as sc"
   ]
  },
  {
   "cell_type": "markdown",
   "metadata": {},
   "source": [
    "```scanpy``` has it's own data type, AnnData, which we need to make our data adhere to. "
   ]
  },
  {
   "cell_type": "code",
   "execution_count": 10,
   "metadata": {},
   "outputs": [],
   "source": [
    "df.to_csv(os.path.join('..','data','GSE75330_Marques_et_al_mol_counts2.csv'))\n",
    "adata = sc.read_csv(os.path.join('..','data','GSE75330_Marques_et_al_mol_counts2.csv'))\n",
    "adata = adata.T"
   ]
  },
  {
   "cell_type": "code",
   "execution_count": 12,
   "metadata": {},
   "outputs": [],
   "source": [
    "sc.pp.filter_genes(adata,min_counts=np.shape(adata)[0]*2)"
   ]
  },
  {
   "cell_type": "markdown",
   "metadata": {},
   "source": [
    "We'll now do a clustering of the expression to determine how many transciptional cell types we think exist within oligodendrocytes. We'll use the Leiden method, an improved verison of the [Louvain algorithm](https://en.wikipedia.org/wiki/Louvain_modularity), but others are certainly available (and available in scanpy). "
   ]
  },
  {
   "cell_type": "code",
   "execution_count": 14,
   "metadata": {},
   "outputs": [],
   "source": [
    "sc.pp.neighbors(adata, use_rep='X')\n",
    "sc.tl.leiden(adata) # i suggest looking at the documentaiotn of this!"
   ]
  },
  {
   "cell_type": "markdown",
   "metadata": {},
   "source": [
    "**Q7 How many cell types did we find? call this ```number_of_classes```**"
   ]
  },
  {
   "cell_type": "code",
   "execution_count": null,
   "metadata": {},
   "outputs": [],
   "source": []
  },
  {
   "cell_type": "markdown",
   "metadata": {},
   "source": [
    "**Q8: Make a heatmap of expression, grouped by these classes** _hint: use the [```scanpy``` documentation](https://icb-scanpy.readthedocs-hosted.com/en/stable/api/scanpy.plotting.html)!_"
   ]
  },
  {
   "cell_type": "code",
   "execution_count": null,
   "metadata": {},
   "outputs": [],
   "source": []
  },
  {
   "cell_type": "code",
   "execution_count": null,
   "metadata": {},
   "outputs": [],
   "source": []
  },
  {
   "cell_type": "markdown",
   "metadata": {},
   "source": [
    "Below is a heatmap with the 500 highest expressing genes, as an example"
   ]
  },
  {
   "cell_type": "code",
   "execution_count": null,
   "metadata": {},
   "outputs": [],
   "source": []
  },
  {
   "cell_type": "markdown",
   "metadata": {},
   "source": [
    "Finally, let's annotate (color) our tSNE embedding with the results of our clustering, like the example plot at the top. First, we'll import some plotting tools, and make sure our colors match the scanpy colors above. If your are interested in color palettes and color control for this plot, checkout the ```seaborn``` package's [color documentation](https://seaborn.pydata.org/tutorial/color_palettes.html), and its ```set_pallete```, ```color_palette``` and ```palplot```."
   ]
  },
  {
   "cell_type": "code",
   "execution_count": 88,
   "metadata": {},
   "outputs": [],
   "source": [
    "from utils.utils import cleanAxes\n",
    "from seaborn import scatterplot, set_palette\n",
    "from matplotlib import cm, colors\n",
    "vega_20 = list(map(colors.to_hex, cm.tab20.colors)) # this is from scanpy's color_pallets.py, so we know it matches\n",
    "set_palette(vega_20)\n",
    "# order=np.array([6,8,1,11,10,12,14,0,2,9,13,5,3,4,7]).astype(str) # this order was read directly off of the heatmap above."
   ]
  },
  {
   "cell_type": "code",
   "execution_count": null,
   "metadata": {},
   "outputs": [],
   "source": [
    "plt.figure(figsize=(8,8))\n",
    "for i,cell_type in enumerate(np.arange(number_of_classes).astype(str)):\n",
    "    indices = np.where(np.array(adata.obs['louvain'].values) == cell_type)[0]\n",
    "    scatterplot(tsne_results[indices,0],tsne_results[indices,1],label=cell_type,legend='full')#,hue=color_palette()[i],)"
   ]
  },
  {
   "cell_type": "markdown",
   "metadata": {},
   "source": [
    "we did it! a colored tSNE embedding!"
   ]
  },
  {
   "cell_type": "markdown",
   "metadata": {},
   "source": [
    "**Bonus Qs: <br>Which of these 15 categories corresponds to the 14 categories in Marquez, Ziesel 2016, shown at the top? It looks like our labels 4 and 11 are precursors or newly formed, from the heatmap and tSNE embedding.<br>To answer this more directly, determine which genes are enriched in each of our 15 categories**"
   ]
  },
  {
   "cell_type": "code",
   "execution_count": null,
   "metadata": {},
   "outputs": [],
   "source": []
  }
 ],
 "metadata": {
  "kernelspec": {
   "display_name": "Python 3",
   "language": "python",
   "name": "python3"
  },
  "language_info": {
   "codemirror_mode": {
    "name": "ipython",
    "version": 3
   },
   "file_extension": ".py",
   "mimetype": "text/x-python",
   "name": "python",
   "nbconvert_exporter": "python",
   "pygments_lexer": "ipython3",
   "version": "3.7.11"
  }
 },
 "nbformat": 4,
 "nbformat_minor": 4
}
